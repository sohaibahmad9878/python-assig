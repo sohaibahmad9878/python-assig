{
 "cells": [
  {
   "cell_type": "code",
   "execution_count": 1,
   "id": "d761060a-1d24-4aa2-abec-0adf8e2a1208",
   "metadata": {},
   "outputs": [
    {
     "name": "stdout",
     "output_type": "stream",
     "text": [
      "5.0\n"
     ]
    }
   ],
   "source": [
    "#Convert an integer to a floating-point number.\n",
    "\n",
    "num = 5\n",
    "\n",
    "floating = float(num)\n",
    "\n",
    "print(floating)\n"
   ]
  },
  {
   "cell_type": "code",
   "execution_count": 3,
   "id": "5a7ce860-2e47-4ef3-8449-ab1cd1d21ffb",
   "metadata": {},
   "outputs": [
    {
     "name": "stdout",
     "output_type": "stream",
     "text": [
      "6.0\n"
     ]
    }
   ],
   "source": [
    "num=6\n",
    "\n",
    "floating = float(num)\n",
    "\n",
    "print(floating)"
   ]
  },
  {
   "cell_type": "code",
   "execution_count": 4,
   "id": "8ea4f535-f7bf-4a84-8fa1-a423cfe87de5",
   "metadata": {},
   "outputs": [
    {
     "name": "stdout",
     "output_type": "stream",
     "text": [
      "7\n"
     ]
    }
   ],
   "source": [
    "#Convert a float to an integer.\n",
    "\n",
    "float = 7.5\n",
    "\n",
    "integer = int(7.5)\n",
    "\n",
    "print(integer)"
   ]
  },
  {
   "cell_type": "code",
   "execution_count": 8,
   "id": "a9e498b9-e5c5-4c95-926b-0cabd17514e6",
   "metadata": {},
   "outputs": [
    {
     "name": "stdout",
     "output_type": "stream",
     "text": [
      "5\n"
     ]
    }
   ],
   "source": [
    "#Convert an integer to a string.\n",
    "\n",
    "int = 5\n",
    "\n",
    "string = str(int)\n",
    "\n",
    "print(string)"
   ]
  },
  {
   "cell_type": "code",
   "execution_count": 16,
   "id": "88097a26-2de2-49bb-acfb-76104c5839b8",
   "metadata": {},
   "outputs": [
    {
     "name": "stdout",
     "output_type": "stream",
     "text": [
      "tuple = (1, 2, 3, 4, 5, 'sohaib', True)\n"
     ]
    }
   ],
   "source": [
    "#Convert a list to a tuple.\n",
    "\n",
    "lis = [1,2,3,4,5,\"sohaib\",True]\n",
    "mytuple = tuple(lis)\n",
    "print(\"tuple =\",mytuple)\n",
    "\n",
    "\n",
    "\n"
   ]
  },
  {
   "cell_type": "code",
   "execution_count": 17,
   "id": "77b3fdcd-2669-4b29-a768-dbee4f5947ca",
   "metadata": {},
   "outputs": [
    {
     "name": "stdout",
     "output_type": "stream",
     "text": [
      "[1, 2, 3, 4, 5, 'ajay']\n"
     ]
    }
   ],
   "source": [
    "#Convert a tuple to a list.\n",
    "\n",
    "tupl = (1,2,3,4,5,\"ajay\")\n",
    "lis=list(tupl)\n",
    "print(lis)\n"
   ]
  },
  {
   "cell_type": "code",
   "execution_count": 27,
   "id": "2986119a-b1ca-4b60-9c4d-95f8b79c1bd2",
   "metadata": {},
   "outputs": [
    {
     "name": "stdin",
     "output_type": "stream",
     "text": [
      "enter a number here: 12\n"
     ]
    },
    {
     "ename": "TypeError",
     "evalue": "'int' object is not callable",
     "output_type": "error",
     "traceback": [
      "\u001b[0;31m---------------------------------------------------------------------------\u001b[0m",
      "\u001b[0;31mTypeError\u001b[0m                                 Traceback (most recent call last)",
      "Cell \u001b[0;32mIn[27], line 3\u001b[0m\n\u001b[1;32m      1\u001b[0m \u001b[38;5;66;03m#Convert a decimal number to binary.\u001b[39;00m\n\u001b[0;32m----> 3\u001b[0m decimal \u001b[38;5;241m=\u001b[39m \u001b[38;5;28;43mint\u001b[39;49m\u001b[43m(\u001b[49m\u001b[38;5;28;43minput\u001b[39;49m\u001b[43m(\u001b[49m\u001b[38;5;124;43m'\u001b[39;49m\u001b[38;5;124;43menter a number here:\u001b[39;49m\u001b[38;5;124;43m'\u001b[39;49m\u001b[43m)\u001b[49m\u001b[43m)\u001b[49m\n\u001b[1;32m      5\u001b[0m print_(\u001b[38;5;124m\"\u001b[39m\u001b[38;5;124mthe conversion of decimal number\u001b[39m\u001b[38;5;124m\"\u001b[39m,decimal,\u001b[38;5;124m\"\u001b[39m\u001b[38;5;124mis: \u001b[39m\u001b[38;5;124m\"\u001b[39m)\n\u001b[1;32m      6\u001b[0m print_(\u001b[38;5;28mbin\u001b[39m(decimal),\u001b[38;5;124m\"\u001b[39m\u001b[38;5;124min binary\u001b[39m\u001b[38;5;124m\"\u001b[39m)\n",
      "\u001b[0;31mTypeError\u001b[0m: 'int' object is not callable"
     ]
    }
   ],
   "source": [
    "#Convert a decimal number to binary.\n",
    "\n",
    "decimal = int(input('enter a number here:'))\n",
    "\n",
    "print_(\"the conversion of decimal number\",decimal,\"is: \")\n",
    "print_(bin(decimal),\"in binary\")\n",
    "print_(oct(decimal),\"in octal\")\n",
    "print_(hex(decimal),\"in hexadecimal\")\n"
   ]
  },
  {
   "cell_type": "code",
   "execution_count": 28,
   "id": "0a35c2f7-a5dd-4897-8d62-5dcff04b1133",
   "metadata": {},
   "outputs": [
    {
     "name": "stdout",
     "output_type": "stream",
     "text": [
      "True\n"
     ]
    }
   ],
   "source": [
    "#Convert a non-zero number to boolean.\n",
    "\n",
    "num = 12\n",
    "print(bool(num)) "
   ]
  },
  {
   "cell_type": "code",
   "execution_count": 30,
   "id": "07637240-b0f8-4c61-ae28-9ebd3ea44c90",
   "metadata": {},
   "outputs": [
    {
     "name": "stdout",
     "output_type": "stream",
     "text": [
      "True\n"
     ]
    }
   ],
   "source": [
    "num=-23\n",
    "print(bool(num))"
   ]
  },
  {
   "cell_type": "code",
   "execution_count": null,
   "id": "2b083660-80d7-4210-868f-15fbbeb1ee40",
   "metadata": {},
   "outputs": [],
   "source": [
    ">>>>>>"
   ]
  }
 ],
 "metadata": {
  "kernelspec": {
   "display_name": "Python 3 (ipykernel)",
   "language": "python",
   "name": "python3"
  },
  "language_info": {
   "codemirror_mode": {
    "name": "ipython",
    "version": 3
   },
   "file_extension": ".py",
   "mimetype": "text/x-python",
   "name": "python",
   "nbconvert_exporter": "python",
   "pygments_lexer": "ipython3",
   "version": "3.10.8"
  }
 },
 "nbformat": 4,
 "nbformat_minor": 5
}
